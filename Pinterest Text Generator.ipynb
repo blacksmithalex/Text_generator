{
 "cells": [
  {
   "cell_type": "code",
   "execution_count": 1,
   "metadata": {},
   "outputs": [],
   "source": [
    "import random\n",
    "Title_r = open('Title.txt', 'r')\n",
    "Interest_r = open('Interest.txt', 'r')\n",
    "Desire_r = open('Desire.txt', 'r')\n",
    "Action_r = open('Action.txt','r')\n",
    "Hashtags_r = open('Hashtags.txt','r')"
   ]
  },
  {
   "cell_type": "code",
   "execution_count": 2,
   "metadata": {},
   "outputs": [],
   "source": [
    "Title = []\n",
    "Interest = []\n",
    "Desire = []\n",
    "Action = []\n",
    "Hashtags = []\n",
    "for line in Title_r.read().split('\\n'):\n",
    "    if line !='':\n",
    "        Title.append(line)\n",
    "Title_r.close()\n",
    "\n",
    "for line in Interest_r.read().split('\\n'):\n",
    "    if line !='':\n",
    "        Interest.append(line)\n",
    "Interest_r.close()\n",
    "\n",
    "for line in Desire_r.read().split('\\n'):\n",
    "    if line !='':\n",
    "        Desire.append(line)\n",
    "Desire_r.close()\n",
    "\n",
    "for line in Action_r.read().split('\\n'):\n",
    "    if line !='':\n",
    "        Action.append(line)\n",
    "Action_r.close()\n",
    "\n",
    "for line in Hashtags_r.read().split('\\n'):\n",
    "    if line !='':\n",
    "        Hashtags.append(line)\n",
    "Action_r.close()\n"
   ]
  },
  {
   "cell_type": "code",
   "execution_count": 4,
   "metadata": {
    "scrolled": true
   },
   "outputs": [
    {
     "name": "stdout",
     "output_type": "stream",
     "text": [
      "Title: Do you know what your kid will be in the future? \n",
      "\n",
      "For our kits, we choose STEAM (Science, Technology, Engineering, Art and Math) professions to inspire kids and to help them learn new disciplines. With one of Oyster kits your child will find his or her real calling in life! Subscribe to Oyster and get a new profession every month! #activities #creative\n",
      "\n",
      "Link: https://oysterkit.com/?utm_source=pinterest\n"
     ]
    }
   ],
   "source": [
    "i = random.randint(0,len(Title)-1)\n",
    "j = random.randint(0,len(Interest)-1)\n",
    "k = random.randint(0,len(Desire)-1)\n",
    "l = random.randint(0,len(Action)-1)\n",
    "\n",
    "m = random.randint(0,len(Hashtags)-1)\n",
    "n = m\n",
    "while n == m:\n",
    "    n = random.randint(0,len(Hashtags)-1) \n",
    "end = ''\n",
    "end+= Hashtags[n]+' '+Hashtags[m]\n",
    "\n",
    "print('Title:',Title[i])\n",
    "print()\n",
    "print(Interest[j],Desire[k],Action[l],end)\n",
    "print()\n",
    "print('Link: https://oysterkit.com/?utm_source=pinterest')"
   ]
  },
  {
   "cell_type": "code",
   "execution_count": null,
   "metadata": {},
   "outputs": [],
   "source": []
  }
 ],
 "metadata": {
  "kernelspec": {
   "display_name": "Python 3",
   "language": "python",
   "name": "python3"
  },
  "language_info": {
   "codemirror_mode": {
    "name": "ipython",
    "version": 3
   },
   "file_extension": ".py",
   "mimetype": "text/x-python",
   "name": "python",
   "nbconvert_exporter": "python",
   "pygments_lexer": "ipython3",
   "version": "3.7.4"
  }
 },
 "nbformat": 4,
 "nbformat_minor": 2
}
